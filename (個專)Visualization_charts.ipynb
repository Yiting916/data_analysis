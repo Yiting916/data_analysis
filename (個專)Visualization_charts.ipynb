{
  "nbformat": 4,
  "nbformat_minor": 0,
  "metadata": {
    "colab": {
      "provenance": [],
      "authorship_tag": "ABX9TyPIdN4uIvDd5MOFsRT1a/GU",
      "include_colab_link": true
    },
    "kernelspec": {
      "name": "python3",
      "display_name": "Python 3"
    },
    "language_info": {
      "name": "python"
    }
  },
  "cells": [
    {
      "cell_type": "markdown",
      "metadata": {
        "id": "view-in-github",
        "colab_type": "text"
      },
      "source": [
        "<a href=\"https://colab.research.google.com/github/Yiting916/data_analysis/blob/main/(%E5%80%8B%E5%B0%88)Visualization_charts.ipynb\" target=\"_parent\"><img src=\"https://colab.research.google.com/assets/colab-badge.svg\" alt=\"Open In Colab\"/></a>"
      ]
    },
    {
      "cell_type": "code",
      "execution_count": 2,
      "metadata": {
        "colab": {
          "base_uri": "https://localhost:8080/"
        },
        "id": "NJl99BMV8wqz",
        "outputId": "03eaa30f-6310-4472-d2df-55f6c5ad9c5a"
      },
      "outputs": [
        {
          "output_type": "stream",
          "name": "stdout",
          "text": [
            "Mounted at /content/drive\n"
          ]
        }
      ],
      "source": [
        "# 掛載 google drive\n",
        "from google.colab import drive\n",
        "drive.mount('/content/drive')"
      ]
    },
    {
      "cell_type": "code",
      "source": [
        "import pandas as pd\n",
        "import numpy as np\n",
        "import seaborn as sns\n",
        "import matplotlib.pyplot as plt\n",
        "\n",
        "root_path = '/content/drive/MyDrive/YiTing/Learning/Python/個專/'\n",
        "\n",
        "# 讀取csv資料\n",
        "df_combined = pd.read_csv(root_path + '全台與各縣市的嬰兒出生數與寵物數_合併結果_2019-2023.csv')\n",
        "#print(df_combined)\n",
        "df_babies = pd.read_csv(root_path + '縣市出生嬰兒登記數_男女_2019-2023.csv')\n",
        "df_babies.head()\n",
        "df_pets = pd.read_csv(root_path + '縣市寵物登記數_貓狗_2019-2023.csv')\n",
        "#df_pets.head()"
      ],
      "metadata": {
        "id": "smYw0fwH9QMG"
      },
      "execution_count": 21,
      "outputs": []
    }
  ]
}