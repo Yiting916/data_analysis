{
 "cells": [
  {
   "cell_type": "markdown",
   "id": "74948123-64c0-43c8-92bf-2148adda5ed6",
   "metadata": {},
   "source": [
    "* 完成後請寄到EMAIL : clement.class.02@gmail.com\n",
    "* 信件主旨請設定為： 05-01.LAB_Iris_學號_姓名  (例: \"05-01.LAB_Iris_00_陳仁政\")\n",
    "* 附件檔名請設定為： 05-01.LAB_Iris_學號_姓名.ipynb (例: \"05-01.LAB_Iris_00_陳仁政.ipynb\")"
   ]
  },
  {
   "cell_type": "code",
   "execution_count": null,
   "id": "9f6bdbe6-3b2c-4033-9765-a34b52dd223b",
   "metadata": {},
   "outputs": [],
   "source": [
    "import numpy as np\n",
    "import pandas as pd\n",
    "import matplotlib.pyplot as plt\n",
    "import seaborn as sns\n",
    "\n",
    "sns.set_style('whitegrid')\n",
    "data = pd.read_csv(\"../data/iris.csv\")\n",
    "data.head(10)"
   ]
  },
  {
   "cell_type": "code",
   "execution_count": null,
   "id": "292f898b-453e-4a8e-b859-399ed321a35c",
   "metadata": {},
   "outputs": [],
   "source": [
    "# 根據 SepalLengthCm 與 SepalWidthCm 兩個欄位來畫出 三種不同種類花的資料點分布圖\n"
   ]
  },
  {
   "cell_type": "markdown",
   "id": "be1015ab-c672-499a-a349-92f107b3291b",
   "metadata": {},
   "source": [
    "### ↑ 問題：從上圖可以看出什麼關係？"
   ]
  },
  {
   "cell_type": "code",
   "execution_count": null,
   "id": "fe3cecb0-8ac6-4b74-a473-0a413580c709",
   "metadata": {},
   "outputs": [],
   "source": [
    "# 畫出 SepalWidthCm 的直方圖，並分成三類\n"
   ]
  },
  {
   "cell_type": "code",
   "execution_count": null,
   "id": "12c913be-b3df-4d89-b39e-b25c183b27d2",
   "metadata": {},
   "outputs": [],
   "source": [
    "# 練習題\n",
    "# 根據上圖看看其他三個欄位的直方圖分布\n",
    "# 並說明那些欄位比較容易進行分類"
   ]
  },
  {
   "cell_type": "code",
   "execution_count": null,
   "id": "8df449df-866e-4eb5-9583-306ef73cd782",
   "metadata": {},
   "outputs": [],
   "source": [
    "# 畫出 SepalWidthCm 的KDE圖，並分成三類\n"
   ]
  },
  {
   "cell_type": "code",
   "execution_count": null,
   "id": "2afea9ee-c389-4eac-a657-094a27200e8d",
   "metadata": {},
   "outputs": [],
   "source": [
    "# 同時顯示直方圖與KDE圖\n"
   ]
  },
  {
   "cell_type": "code",
   "execution_count": null,
   "id": "18204d3b-2aaa-41bf-b7a0-6dda9b3f8bab",
   "metadata": {},
   "outputs": [],
   "source": [
    "# 使用 Pairplot來畫出散布圖矩陣\n"
   ]
  },
  {
   "cell_type": "markdown",
   "id": "98c254c1-2448-4f11-9bc2-1b11c34f578b",
   "metadata": {},
   "source": [
    "### ↑ 問題：從上圖可以看出什麼關係？"
   ]
  },
  {
   "cell_type": "code",
   "execution_count": null,
   "id": "a18cac9e-6f23-4f1b-bdfb-5803f085ec47",
   "metadata": {},
   "outputs": [],
   "source": [
    "#計算四個欄位的相關性係數矩陣\n"
   ]
  },
  {
   "cell_type": "markdown",
   "id": "6c4ec27d-d318-4ac3-95fa-4f8e0612cd84",
   "metadata": {},
   "source": [
    "### ↑ 問題：從上圖可以看出什麼關係？"
   ]
  },
  {
   "cell_type": "code",
   "execution_count": null,
   "id": "c508b483-9dce-4580-a7d0-96c0de5edc49",
   "metadata": {},
   "outputs": [],
   "source": []
  }
 ],
 "metadata": {
  "kernelspec": {
   "display_name": "Python 3 (ipykernel)",
   "language": "python",
   "name": "python3"
  },
  "language_info": {
   "codemirror_mode": {
    "name": "ipython",
    "version": 3
   },
   "file_extension": ".py",
   "mimetype": "text/x-python",
   "name": "python",
   "nbconvert_exporter": "python",
   "pygments_lexer": "ipython3",
   "version": "3.12.3"
  }
 },
 "nbformat": 4,
 "nbformat_minor": 5
}
