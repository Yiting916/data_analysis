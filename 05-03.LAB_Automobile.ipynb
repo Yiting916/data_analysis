{
 "cells": [
  {
   "cell_type": "markdown",
   "id": "74948123-64c0-43c8-92bf-2148adda5ed6",
   "metadata": {},
   "source": [
    "* 完成後請寄到EMAIL : clement.class.02@gmail.com\n",
    "* 信件主旨請設定為： 05-03.LAB_Automobile_學號_姓名  (例: \"05-03.LAB_Automobile_00_陳仁政\")\n",
    "* 附件檔名請設定為： 05-03.LAB_Automobile_學號_姓名.ipynb (例: \"05-03.LAB_Automobile_00_陳仁政.ipynb\")"
   ]
  },
  {
   "cell_type": "code",
   "execution_count": null,
   "id": "9f6bdbe6-3b2c-4033-9765-a34b52dd223b",
   "metadata": {},
   "outputs": [],
   "source": [
    "import numpy as np\n",
    "import pandas as pd\n",
    "import matplotlib.pyplot as plt\n",
    "import seaborn as sns\n",
    "\n",
    "sns.set_style('whitegrid')\n",
    "data = pd.read_csv(\"../data/Automobile.csv\")\n",
    "data.head(10)"
   ]
  },
  {
   "cell_type": "code",
   "execution_count": null,
   "id": "0d5e7704-6947-45de-bf0f-05029965dab1",
   "metadata": {},
   "outputs": [],
   "source": [
    "#查看資料筆數跟欄位數目\n"
   ]
  },
  {
   "cell_type": "code",
   "execution_count": null,
   "id": "acdaef64-4d80-458e-afff-a59d4b40699d",
   "metadata": {},
   "outputs": [],
   "source": [
    "# 檢查資料欄位的型態，以及缺失狀況\n"
   ]
  },
  {
   "cell_type": "code",
   "execution_count": null,
   "id": "2443786a-d44c-45aa-a8a2-6252c4f6f4ca",
   "metadata": {},
   "outputs": [],
   "source": [
    "# 計算各欄位資料缺失狀況\n"
   ]
  },
  {
   "cell_type": "code",
   "execution_count": null,
   "id": "58325bca-1f6b-4e6b-a0b0-cfa3e614fbdf",
   "metadata": {},
   "outputs": [],
   "source": [
    "# 查看一下資料的基本統計值\n"
   ]
  },
  {
   "cell_type": "code",
   "execution_count": null,
   "id": "4c114d31-8271-405b-ba67-109686ce4fed",
   "metadata": {},
   "outputs": [],
   "source": [
    "# 那一個廠牌的車子數量最多？\n"
   ]
  },
  {
   "cell_type": "code",
   "execution_count": null,
   "id": "f06c3523-5623-4a82-9943-9e30387fd1b4",
   "metadata": {},
   "outputs": [],
   "source": [
    "# 練習題\n",
    "# 哪一種車型(Body-style)的數量最多？"
   ]
  },
  {
   "cell_type": "markdown",
   "id": "8428dc85-5c43-4968-ba36-1cc30706c854",
   "metadata": {},
   "source": [
    "# Label vs Number"
   ]
  },
  {
   "cell_type": "code",
   "execution_count": null,
   "id": "647efbf7-b020-4293-85c8-23d8e6c932cf",
   "metadata": {},
   "outputs": [],
   "source": [
    "# 畫出不同燃油型態Fuel-type的價格分布\n"
   ]
  },
  {
   "cell_type": "code",
   "execution_count": null,
   "id": "662b2b7b-ee8c-4c34-bf70-4a44df0d01f5",
   "metadata": {},
   "outputs": [],
   "source": [
    "# 找出引擎位置(Body-style)跟引擎大小(Engine-size)之間有沒有關係？\n"
   ]
  },
  {
   "cell_type": "code",
   "execution_count": null,
   "id": "10fe39a8-6768-4827-aacb-0270ccbf0261",
   "metadata": {},
   "outputs": [],
   "source": [
    "# 練習題\n",
    "# 找出廠牌跟價格之間有沒有關係？"
   ]
  },
  {
   "cell_type": "code",
   "execution_count": null,
   "id": "7a7ffd58-06d5-4de7-84c5-c2ff1e481ca4",
   "metadata": {},
   "outputs": [],
   "source": [
    "# 練習題\n",
    "# 找出Engine-type跟horsepower之間有沒有關係？"
   ]
  },
  {
   "cell_type": "markdown",
   "id": "a458368e-afaf-431a-b7bd-23b21e735577",
   "metadata": {},
   "source": [
    "# Number vs Number"
   ]
  },
  {
   "cell_type": "code",
   "execution_count": null,
   "id": "6ec226fb-e731-4e0e-8715-cf031d1973d8",
   "metadata": {},
   "outputs": [],
   "source": [
    "# 找出引擎大小(Engine-size)跟馬力(horsepower)之間有沒有關係？\n"
   ]
  },
  {
   "cell_type": "code",
   "execution_count": null,
   "id": "19705158-5bc4-44ff-93f6-e97f2aa14998",
   "metadata": {},
   "outputs": [],
   "source": [
    "# 計算引擎大小(Engine-size)跟馬力(horsepower)之間相關性係數\n"
   ]
  },
  {
   "cell_type": "code",
   "execution_count": null,
   "id": "1b7abdac-a838-429e-b716-e41f45a3adff",
   "metadata": {},
   "outputs": [],
   "source": [
    "# 練習題\n",
    "# 找出價格跟馬力之間有沒有關係？\n"
   ]
  },
  {
   "cell_type": "code",
   "execution_count": null,
   "id": "2c328b05-5e51-448c-ad5b-28d085f2dba8",
   "metadata": {},
   "outputs": [],
   "source": [
    "# 練習題\n",
    "# 找出價格跟車長之間有沒有關係？"
   ]
  },
  {
   "cell_type": "markdown",
   "id": "0b545daa-0cfa-45ef-b2c6-b37a54c0b918",
   "metadata": {},
   "source": [
    "# Label vs Label"
   ]
  },
  {
   "cell_type": "code",
   "execution_count": null,
   "id": "3ef4a135-7628-4afc-8625-281bfeaa2b55",
   "metadata": {},
   "outputs": [],
   "source": [
    "# 找出Body-style跟Num-of-doors的關係\n"
   ]
  },
  {
   "cell_type": "code",
   "execution_count": null,
   "id": "0a41210f-b9b0-49cc-a8ad-59b8410ad2b3",
   "metadata": {},
   "outputs": [],
   "source": [
    "# 計算Body-style跟Num-of-doors的計數矩陣\n"
   ]
  },
  {
   "cell_type": "code",
   "execution_count": null,
   "id": "701f2adf-6186-40de-9c6b-8774b90a7719",
   "metadata": {},
   "outputs": [],
   "source": [
    "# 畫出上個表格的熱圖\n"
   ]
  },
  {
   "cell_type": "code",
   "execution_count": null,
   "id": "d779e6bd-5329-4791-8a45-53781b8334a2",
   "metadata": {},
   "outputs": [],
   "source": [
    "# 練習題\n",
    "# 找出Body-style跟廠牌的關係"
   ]
  },
  {
   "cell_type": "code",
   "execution_count": null,
   "id": "4a6b6ee3-dd45-4636-9b35-073464e8fd78",
   "metadata": {},
   "outputs": [],
   "source": []
  },
  {
   "cell_type": "markdown",
   "id": "ef790f47-c1c3-4983-a8ee-2bfae31bdb9b",
   "metadata": {},
   "source": [
    "# Group By"
   ]
  },
  {
   "cell_type": "code",
   "execution_count": null,
   "id": "d0f622d5-7c35-40a9-a12c-d1f876785648",
   "metadata": {},
   "outputs": [],
   "source": [
    "# 計算不同廠牌汽車的平均價格，並畫出來\n"
   ]
  },
  {
   "cell_type": "code",
   "execution_count": null,
   "id": "690e7842-21ac-470c-85c8-a4e0238f4b36",
   "metadata": {},
   "outputs": [],
   "source": [
    "# 練習題\n",
    "# 修改上圖將平均價格由高到低排序"
   ]
  },
  {
   "cell_type": "code",
   "execution_count": null,
   "id": "a95c27aa-b478-4a9c-9bc3-2efd30b8d9b2",
   "metadata": {},
   "outputs": [],
   "source": [
    "# 練習題\n",
    "# 計算不同車型的平均馬力"
   ]
  },
  {
   "cell_type": "code",
   "execution_count": null,
   "id": "1e1e570a-187b-430d-a6cd-626b47a39d8d",
   "metadata": {},
   "outputs": [],
   "source": [
    "# 練習題\n",
    "# 找出車長與車種之間是否有關係？"
   ]
  },
  {
   "cell_type": "code",
   "execution_count": null,
   "id": "0d8e195a-edca-459a-9cd8-69d10e2e7fae",
   "metadata": {},
   "outputs": [],
   "source": [
    "# 練習題\n",
    "# 找出不同車廠對於生產車子Body-style是否有偏好？"
   ]
  },
  {
   "cell_type": "code",
   "execution_count": null,
   "id": "bc0f6e70-e5f5-4460-817b-d52859214717",
   "metadata": {},
   "outputs": [],
   "source": [
    "# 練習題\n",
    "# 找出Body-style是否會影響車價？"
   ]
  },
  {
   "cell_type": "code",
   "execution_count": null,
   "id": "e64cbe7a-0a81-4304-98e1-74444a4f8377",
   "metadata": {},
   "outputs": [],
   "source": [
    "# 練習題\n",
    "# 找出最高時數跟馬力之間是否有關係？"
   ]
  },
  {
   "cell_type": "code",
   "execution_count": null,
   "id": "a9d77af7-edef-4595-b53a-5a65e4b75146",
   "metadata": {},
   "outputs": [],
   "source": [
    "# 練習題\n",
    "# 根據 車廠與車型(Body-style)的不同，計算各個組合的平均價格"
   ]
  },
  {
   "cell_type": "code",
   "execution_count": null,
   "id": "172b7328-6462-47d8-89f9-737ba79d0071",
   "metadata": {},
   "outputs": [],
   "source": []
  },
  {
   "cell_type": "code",
   "execution_count": null,
   "id": "5fa991fe-34e8-441e-b6b9-7deab99ee310",
   "metadata": {},
   "outputs": [],
   "source": []
  }
 ],
 "metadata": {
  "kernelspec": {
   "display_name": "Python 3 (ipykernel)",
   "language": "python",
   "name": "python3"
  },
  "language_info": {
   "codemirror_mode": {
    "name": "ipython",
    "version": 3
   },
   "file_extension": ".py",
   "mimetype": "text/x-python",
   "name": "python",
   "nbconvert_exporter": "python",
   "pygments_lexer": "ipython3",
   "version": "3.12.3"
  }
 },
 "nbformat": 4,
 "nbformat_minor": 5
}
