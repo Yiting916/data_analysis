{
 "cells": [
  {
   "cell_type": "markdown",
   "id": "455b6a3d-38ba-4ad3-b2d4-cca0d30b76fb",
   "metadata": {},
   "source": [
    "* 完成後請寄到EMAIL : clement.class.02@gmail.com\n",
    "* 信件主旨請設定為： 03-02.Pandas_課堂練習_學號_姓名 (例: \"03-02.Pandas_課堂練習_00_陳仁政\")\n",
    "* 附件檔名請設定為： 03-02.Pandas_課堂練習_學號_姓名.ipynb (例: \"03-02.Pandas_課堂練習_00_陳仁政.ipynb\")"
   ]
  },
  {
   "cell_type": "code",
   "execution_count": null,
   "id": "7abd04c9-d77e-4703-9755-9a1dccdc9cd4",
   "metadata": {},
   "outputs": [],
   "source": [
    "import numpy as np\n",
    "import pandas as pd\n",
    "import matplotlib.pyplot as plt\n",
    "data = pd.read_csv(\"../data/vgsales.csv\")\n",
    "data.head()"
   ]
  },
  {
   "cell_type": "code",
   "execution_count": null,
   "id": "b6c4e74a-d4cd-4bda-92f3-94744971e32c",
   "metadata": {},
   "outputs": [],
   "source": [
    "# 找出有缺失值的欄位\n"
   ]
  },
  {
   "cell_type": "code",
   "execution_count": null,
   "id": "7235eb41-cf18-4ccf-b84b-42686f29cbce",
   "metadata": {},
   "outputs": [],
   "source": [
    "# 計算欄位的基本統計數據\n"
   ]
  },
  {
   "cell_type": "code",
   "execution_count": null,
   "id": "e3518e98-48e7-48ce-9120-156a8104fb09",
   "metadata": {},
   "outputs": [],
   "source": [
    "# 取出 \"Publisher\" 欄位的資料\n"
   ]
  },
  {
   "cell_type": "code",
   "execution_count": null,
   "id": "a45c7b71-3402-409d-ad8d-986f7a9be989",
   "metadata": {},
   "outputs": [],
   "source": [
    "# 取出 Publisher, Name, Genre 欄位的資料\n"
   ]
  },
  {
   "cell_type": "code",
   "execution_count": null,
   "id": "149dd076-d82b-4601-94c8-c18f06632de0",
   "metadata": {},
   "outputs": [],
   "source": [
    "# 計算每筆資料的 NA_Sales,EU_Sales,JP_Sales,Other_Sales 總和\n"
   ]
  },
  {
   "cell_type": "code",
   "execution_count": null,
   "id": "7ab485cc-e8d1-42aa-bacc-ca5d4c1eb260",
   "metadata": {},
   "outputs": [],
   "source": [
    "# 計算每筆資料的 NA_Sales,EU_Sales,JP_Sales,Other_Sales 總和，並存入新的欄位\"總和\"\n"
   ]
  },
  {
   "cell_type": "code",
   "execution_count": null,
   "id": "b4ce80ca-a407-43b5-98cf-11314bf8bd30",
   "metadata": {},
   "outputs": [],
   "source": [
    "#找出發行商為Nintendo的遊戲名稱\n"
   ]
  },
  {
   "cell_type": "code",
   "execution_count": null,
   "id": "8ad3da57-0c18-45df-910a-b2e297e8a9e7",
   "metadata": {},
   "outputs": [],
   "source": [
    "#列出所有Wii的遊戲名稱\n"
   ]
  },
  {
   "cell_type": "code",
   "execution_count": null,
   "id": "e6305e9f-b490-4448-b527-84cbd1e18166",
   "metadata": {},
   "outputs": [],
   "source": [
    "#計算所有GBA遊戲的銷售總合\n"
   ]
  },
  {
   "cell_type": "code",
   "execution_count": null,
   "id": "5a8b0474-7dd2-42a6-a5a1-1ac60fe448ed",
   "metadata": {},
   "outputs": [],
   "source": [
    "#計算任天堂運動類遊戲的銷售總量\n"
   ]
  },
  {
   "cell_type": "code",
   "execution_count": null,
   "id": "91d6f70a-149e-41d5-81fa-8e5e618f32d0",
   "metadata": {},
   "outputs": [],
   "source": [
    "#列出北美地區銷售量最高的前五名遊戲\n"
   ]
  },
  {
   "cell_type": "code",
   "execution_count": null,
   "id": "5858d2c4-28c0-463d-a5fa-809b5708804d",
   "metadata": {},
   "outputs": [],
   "source": [
    "#列出北美與歐洲地區銷售量總和最高的前五名遊戲\n"
   ]
  },
  {
   "cell_type": "code",
   "execution_count": null,
   "id": "7f5a001e-5dd4-4eee-a0cf-aa662a6c199b",
   "metadata": {},
   "outputs": [],
   "source": [
    "#找出總共有多少種不同的平台\n"
   ]
  },
  {
   "cell_type": "code",
   "execution_count": null,
   "id": "beb7f4e4-e215-4d1a-b3ad-2b16479cfa34",
   "metadata": {},
   "outputs": [],
   "source": [
    "#寫程式計算不同平台的總銷售量\n"
   ]
  },
  {
   "cell_type": "code",
   "execution_count": null,
   "id": "6c27e0fe-0ccb-49fa-85ac-1010a56f12bd",
   "metadata": {},
   "outputs": [],
   "source": [
    "# 使用GroupBy來完成上述的工作\n"
   ]
  },
  {
   "cell_type": "code",
   "execution_count": null,
   "id": "18c11f5b-91dc-412f-886f-c7afeeca6bd5",
   "metadata": {},
   "outputs": [],
   "source": []
  }
 ],
 "metadata": {
  "kernelspec": {
   "display_name": "Python 3 (ipykernel)",
   "language": "python",
   "name": "python3"
  },
  "language_info": {
   "codemirror_mode": {
    "name": "ipython",
    "version": 3
   },
   "file_extension": ".py",
   "mimetype": "text/x-python",
   "name": "python",
   "nbconvert_exporter": "python",
   "pygments_lexer": "ipython3",
   "version": "3.12.3"
  }
 },
 "nbformat": 4,
 "nbformat_minor": 5
}
