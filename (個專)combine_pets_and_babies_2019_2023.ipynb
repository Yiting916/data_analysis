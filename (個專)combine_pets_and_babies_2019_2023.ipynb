{
  "nbformat": 4,
  "nbformat_minor": 0,
  "metadata": {
    "colab": {
      "provenance": [],
      "mount_file_id": "1NDjv-5jpcWnTINVeDwPlOHPOU2ziyXbG",
      "authorship_tag": "ABX9TyOqGFMG/4zgKvp9ohAAWFb2",
      "include_colab_link": true
    },
    "kernelspec": {
      "name": "python3",
      "display_name": "Python 3"
    },
    "language_info": {
      "name": "python"
    }
  },
  "cells": [
    {
      "cell_type": "markdown",
      "metadata": {
        "id": "view-in-github",
        "colab_type": "text"
      },
      "source": [
        "<a href=\"https://colab.research.google.com/github/Yiting916/data_analysis/blob/main/(%E5%80%8B%E5%B0%88)combine_pets_and_babies_2019_2023.ipynb\" target=\"_parent\"><img src=\"https://colab.research.google.com/assets/colab-badge.svg\" alt=\"Open In Colab\"/></a>"
      ]
    },
    {
      "cell_type": "code",
      "source": [
        "# 掛載 google drive\n",
        "from google.colab import drive\n",
        "drive.mount('/content/drive')"
      ],
      "metadata": {
        "colab": {
          "base_uri": "https://localhost:8080/"
        },
        "id": "S_6v_m6bxUqN",
        "outputId": "1b756fe9-433f-4c82-a993-34dc42996264"
      },
      "execution_count": 2,
      "outputs": [
        {
          "output_type": "stream",
          "name": "stdout",
          "text": [
            "Drive already mounted at /content/drive; to attempt to forcibly remount, call drive.mount(\"/content/drive\", force_remount=True).\n"
          ]
        }
      ]
    },
    {
      "cell_type": "code",
      "execution_count": 3,
      "metadata": {
        "id": "FLfLVyzzV-5A"
      },
      "outputs": [],
      "source": [
        "import pandas as pd\n",
        "\n",
        "# 讀取原始 CSV 檔案\n",
        "df_birth = pd.read_csv('/content/drive/MyDrive/YiTing/Learning/Python/個專/縣市出生嬰兒登記數_全部_2019-2023.csv')\n",
        "df_pets = pd.read_csv('/content/drive/MyDrive/YiTing/Learning/Python/個專/縣市寵物登記數_貓狗_2019-2023.csv')\n",
        "\n",
        "# 1. 處理寵物資料：先加總各縣市的貓狗登記數\n",
        "df_pets_sum = df_pets.groupby(['年', '縣市'])['登記數'].sum().reset_index()\n",
        "df_pets_sum['寵物類別'] = '全部'\n",
        "\n",
        "# 2. 計算每年全台的總登記數\n",
        "df_pets_total = df_pets_sum.groupby('年')['登記數'].sum().reset_index()\n",
        "df_pets_total['縣市'] = '全台'\n",
        "df_pets_total['寵物類別'] = '全部'\n",
        "\n",
        "# 3. 合併縣市資料和全台資料\n",
        "df_pets_combined = pd.concat([df_pets_sum, df_pets_total])\n",
        "\n",
        "# 4. 將結果存為新的 CSV 檔案（資料表3）\n",
        "df_pets_combined.to_csv('/content/drive/MyDrive/YiTing/Learning/Python/個專/縣市寵物登記數_全部_2019-2023.csv', index=False)\n",
        "\n",
        "# 5. 將寵物資料轉為寬格式以準備合併\n",
        "df_pets_wide = df_pets_combined.pivot(\n",
        "    index=['年', '縣市'],\n",
        "    columns='寵物類別',\n",
        "    values='登記數'\n",
        ").reset_index()\n",
        "\n",
        "# 重命名欄位\n",
        "df_pets_wide.columns.name = None\n",
        "df_pets_wide = df_pets_wide.rename(columns={'全部': '寵物登記數'})\n",
        "\n",
        "# 6. 處理出生資料：移除性別欄位並加總\n",
        "df_birth_no_gender = df_birth.drop('性別', axis=1).groupby(['年', '縣市'])['嬰兒出生數'].sum().reset_index()\n",
        "\n",
        "# 7. 合併出生資料和處理後的寵物資料\n",
        "result = pd.merge(\n",
        "    df_birth_no_gender,\n",
        "    df_pets_wide,\n",
        "    on=['年', '縣市'],\n",
        "    how='left'\n",
        ")\n",
        "\n",
        "# 8. 將最終合併結果存為新的 CSV 檔案\n",
        "result.to_csv('/content/drive/MyDrive/YiTing/Learning/Python/個專/全台與各縣市的嬰兒出生數與寵物數_合併結果_2019-2023.csv', index=False)"
      ]
    }
  ]
}